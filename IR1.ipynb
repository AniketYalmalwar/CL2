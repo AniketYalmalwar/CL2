{
 "cells": [
  {
   "cell_type": "markdown",
   "metadata": {},
   "source": [
    "1. Write a program for pre-processing of a text document such as stop word removal, stemming."
   ]
  },
  {
   "cell_type": "code",
   "execution_count": 1,
   "metadata": {},
   "outputs": [],
   "source": [
    "import nltk\n",
    "from nltk.stem.porter import PorterStemmer\n",
    "from nltk.stem import WordNetLemmatizer\n",
    "from nltk.corpus import stopwords\n",
    "from nltk.tokenize import word_tokenize"
   ]
  },
  {
   "cell_type": "code",
   "execution_count": 2,
   "metadata": {},
   "outputs": [
    {
     "name": "stderr",
     "output_type": "stream",
     "text": [
      "[nltk_data] Downloading package stopwords to /home/robert/nltk_data...\n",
      "[nltk_data]   Package stopwords is already up-to-date!\n",
      "[nltk_data] Downloading package punkt to /home/robert/nltk_data...\n",
      "[nltk_data]   Package punkt is already up-to-date!\n",
      "[nltk_data] Downloading package wordnet to /home/robert/nltk_data...\n",
      "[nltk_data]   Package wordnet is already up-to-date!\n"
     ]
    },
    {
     "data": {
      "text/plain": [
       "True"
      ]
     },
     "execution_count": 2,
     "metadata": {},
     "output_type": "execute_result"
    }
   ],
   "source": [
    "nltk.download('stopwords')\n",
    "nltk.download('punkt')\n",
    "nltk.download('wordnet')"
   ]
  },
  {
   "cell_type": "code",
   "execution_count": 3,
   "metadata": {},
   "outputs": [],
   "source": [
    "\n",
    "def pre_processing(text):\n",
    "    stopwords_list = stopwords.words('english')\n",
    "    text = text.lower()\n",
    "    lemma = WordNetLemmatizer()\n",
    "    words = word_tokenize(text)\n",
    "    filtered_words = [word for word in words if word not in stopwords_list]\n",
    "    stemmed_words = [lemma.lemmatize(word) for word in filtered_words]\n",
    "    return stemmed_words\n"
   ]
  },
  {
   "cell_type": "code",
   "execution_count": 4,
   "metadata": {},
   "outputs": [],
   "source": [
    "import fileinput\n",
    "processed_text =[]\n",
    "file_name = \"sample.txt\"\n",
    "\n",
    "with fileinput.input(files=file_name) as f:\n",
    "    for line in f:\n",
    "        text = pre_processing(line)\n",
    "        for i in text:\n",
    "            processed_text.append(i)"
   ]
  },
  {
   "cell_type": "code",
   "execution_count": 5,
   "metadata": {},
   "outputs": [
    {
     "name": "stdout",
     "output_type": "stream",
     "text": [
      "['small', 'village', 'nestled', 'rolling', 'hill', 'ancient', 'forest', ',', 'mysterious', 'old', 'library', 'seemed', 'hold', 'secret', 'world', '.', 'library', ',', 'built', 'weathered', 'stone', 'covered', 'ivy', ',', 'place', 'time', 'felt', 'though', 'stood', 'still', '.', 'shelf', 'lined', 'book', 'shape', 'size', ',', 'ancient', 'page', 'threatened', 'crumble', 'slightest', 'touch', '.', 'one', 'day', ',', 'young', 'girl', 'named', 'elara', 'stumbled', 'upon', 'hidden', 'treasure', '.', 'elara', 'curious', 'adventurous', 'soul', ',', 'always', 'seeking', 'new', 'story', 'knowledge', '.', 'wandered', 'aisle', ',', 'discovered', 'dusty', 'old', 'book', 'cover', 'adorned', 'strange', 'symbol', 'title', 'written', 'language', 'recognize', '.', 'moment', 'opened', ',', 'gust', 'wind', 'swirled', 'around', ',', 'word', 'page', 'began', 'glow', '.', 'book', 'spoke', 'forgotten', 'era', ',', 'lost', 'civilization', 'magical', 'realm', 'beyond', 'imagination', '.', 'told', 'tale', 'brave', 'hero', ',', 'powerful', 'sorcerer', ',', 'epic', 'battle', 'good', 'evil', '.', 'elara', 'captivated', ',', 'eye', 'wide', 'wonder', 'devoured', 'story', '.', 'knew', 'found', 'something', 'extraordinary', ',', 'something', 'could', 'change', 'life', 'forever', '.', 'little', 'know', ',', 'library', 'chosen', 'reason', '.', 'elara', 'embark', 'adventure', 'unlike', ',', 'guided', 'wisdom', 'magic', 'contained', 'within', 'ancient', 'book', '.', 'first', 'ray', 'dawn', 'broke', 'library', '’', 'stained', 'glass', 'window', ',', 'elara', 'stepped', ',', 'ready', 'explore', 'world', 'uncover', 'secret', 'hidden', 'century', '.']\n"
     ]
    }
   ],
   "source": [
    "print(processed_text)"
   ]
  },
  {
   "cell_type": "code",
   "execution_count": 6,
   "metadata": {},
   "outputs": [],
   "source": [
    "import csv\n",
    "with open(\"output.csv\", \"w\") as file:\n",
    "    writer = csv.writer(file, delimiter=',')\n",
    "    writer.writerow(processed_text)"
   ]
  },
  {
   "cell_type": "code",
   "execution_count": null,
   "metadata": {},
   "outputs": [],
   "source": []
  }
 ],
 "metadata": {
  "kernelspec": {
   "display_name": "base",
   "language": "python",
   "name": "python3"
  },
  "language_info": {
   "codemirror_mode": {
    "name": "ipython",
    "version": 3
   },
   "file_extension": ".py",
   "mimetype": "text/x-python",
   "name": "python",
   "nbconvert_exporter": "python",
   "pygments_lexer": "ipython3",
   "version": "3.12.2"
  }
 },
 "nbformat": 4,
 "nbformat_minor": 4
}
