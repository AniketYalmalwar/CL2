{
 "cells": [
  {
   "cell_type": "markdown",
   "metadata": {},
   "source": [
    "2. Implement a program for retrieval of documents using inverted files."
   ]
  },
  {
   "cell_type": "code",
   "execution_count": 2,
   "metadata": {},
   "outputs": [
    {
     "name": "stdout",
     "output_type": "stream",
     "text": [
      "Number of lines in file is:  3\n",
      "['This is the first word.\\n', 'This is the second text, Hello! How are you?\\n', 'This is the third, this is it now.']\n"
     ]
    }
   ],
   "source": [
    "# Open the file\n",
    "file = open('file.txt', encoding='utf8')\n",
    "read = file.read()\n",
    "\n",
    "# Reset cursor to the beginning of the file\n",
    "file.seek(0)\n",
    "\n",
    "# Count the number of lines\n",
    "line = 1\n",
    "for word in read:\n",
    "    if word == '\\n':\n",
    "        line += 1\n",
    "\n",
    "print(\"Number of lines in file is: \", line)\n",
    "\n",
    "# Create a list to store each line as an element of the list\n",
    "array = []\n",
    "for i in range(line):\n",
    "    array.append(file.readline())\n",
    "print(array)\n"
   ]
  },
  {
   "cell_type": "code",
   "execution_count": 3,
   "metadata": {},
   "outputs": [
    {
     "name": "stdout",
     "output_type": "stream",
     "text": [
      "this is the first word \n",
      "this is the second text  hello  how are you \n",
      "this is the third  this is it now \n"
     ]
    },
    {
     "name": "stderr",
     "output_type": "stream",
     "text": [
      "<>:2: SyntaxWarning: invalid escape sequence '\\,'\n",
      "<>:2: SyntaxWarning: invalid escape sequence '\\,'\n",
      "/tmp/ipykernel_34260/1590972108.py:2: SyntaxWarning: invalid escape sequence '\\,'\n",
      "  punc = '''!()-[]{};:'\"\\, <>./?@#$%^&*_~'''\n"
     ]
    }
   ],
   "source": [
    "# Remove punctuation\n",
    "punc = '''!()-[]{};:'\"\\, <>./?@#$%^&*_~'''\n",
    "for ele in read:\n",
    "    if ele in punc:\n",
    "        read = read.replace(ele, \" \")\n",
    "\n",
    "# Convert to lowercase\n",
    "read = read.lower()\n",
    "print(read)\n"
   ]
  },
  {
   "cell_type": "code",
   "execution_count": 4,
   "metadata": {},
   "outputs": [
    {
     "name": "stdout",
     "output_type": "stream",
     "text": [
      "[['This', 'is', 'the', 'first', 'word.'], ['This', 'is', 'the', 'second', 'text,', 'Hello!', 'How', 'are', 'you?'], ['This', 'is', 'the', 'third,', 'this', 'is', 'it', 'now.']]\n"
     ]
    }
   ],
   "source": [
    "def tokenize_words(file_contents):\n",
    "    result = []\n",
    "    for i in range(len(file_contents)):\n",
    "        tokenized = []\n",
    "        tokenized = file_contents[i].split()\n",
    "        result.append(tokenized)\n",
    "    return result\n",
    "\n",
    "tokens = tokenize_words(array)\n",
    "print(tokens)\n"
   ]
  },
  {
   "cell_type": "code",
   "execution_count": 5,
   "metadata": {},
   "outputs": [
    {
     "name": "stdout",
     "output_type": "stream",
     "text": [
      "['word', 'text']\n"
     ]
    },
    {
     "name": "stderr",
     "output_type": "stream",
     "text": [
      "[nltk_data] Downloading package stopwords to /home/robert/nltk_data...\n",
      "[nltk_data]   Package stopwords is already up-to-date!\n"
     ]
    }
   ],
   "source": [
    "import nltk\n",
    "from nltk.corpus import stopwords\n",
    "from nltk.tokenize import word_tokenize\n",
    "\n",
    "# Download stopwords if you haven't already\n",
    "nltk.download('stopwords')\n",
    "\n",
    "# Remove stopwords\n",
    "text_tokens = word_tokenize(read)\n",
    "tokens_without_sw = [word for word in text_tokens if not word in stopwords.words()]\n",
    "print(tokens_without_sw)\n"
   ]
  },
  {
   "cell_type": "code",
   "execution_count": 6,
   "metadata": {},
   "outputs": [
    {
     "name": "stdout",
     "output_type": "stream",
     "text": [
      "{'word': [1], 'text': [2]}\n"
     ]
    }
   ],
   "source": [
    "# Create the inverted index\n",
    "inverted_index = {}\n",
    "for i in range(line):\n",
    "    check = array[i].lower()\n",
    "    for item in tokens_without_sw:\n",
    "        if item in check:\n",
    "            if item not in inverted_index:\n",
    "                inverted_index[item] = []\n",
    "            if item in inverted_index:\n",
    "                inverted_index[item].append(i + 1)\n",
    "\n",
    "print(inverted_index)\n"
   ]
  },
  {
   "cell_type": "code",
   "execution_count": 7,
   "metadata": {},
   "outputs": [
    {
     "name": "stdout",
     "output_type": "stream",
     "text": [
      "The word 'text' is found in lines: [2]\n"
     ]
    }
   ],
   "source": [
    "search_word = 'text'\n",
    "if search_word in inverted_index:\n",
    "    print(f\"The word '{search_word}' is found in lines: {inverted_index[search_word]}\")\n",
    "else:\n",
    "    print(f\"The word '{search_word}' is not found in the document.\")\n"
   ]
  }
 ],
 "metadata": {
  "kernelspec": {
   "display_name": "base",
   "language": "python",
   "name": "python3"
  },
  "language_info": {
   "codemirror_mode": {
    "name": "ipython",
    "version": 3
   },
   "file_extension": ".py",
   "mimetype": "text/x-python",
   "name": "python",
   "nbconvert_exporter": "python",
   "pygments_lexer": "ipython3",
   "version": "3.12.2"
  }
 },
 "nbformat": 4,
 "nbformat_minor": 2
}
