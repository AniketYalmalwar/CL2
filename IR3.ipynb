{
 "cells": [
  {
   "cell_type": "code",
   "execution_count": 1,
   "metadata": {},
   "outputs": [
    {
     "ename": "ModuleNotFoundError",
     "evalue": "No module named 'pgmpy'",
     "output_type": "error",
     "traceback": [
      "\u001b[0;31m---------------------------------------------------------------------------\u001b[0m",
      "\u001b[0;31mModuleNotFoundError\u001b[0m                       Traceback (most recent call last)",
      "Cell \u001b[0;32mIn[1], line 4\u001b[0m\n\u001b[1;32m      2\u001b[0m \u001b[38;5;28;01mimport\u001b[39;00m \u001b[38;5;21;01mnumpy\u001b[39;00m \u001b[38;5;28;01mas\u001b[39;00m \u001b[38;5;21;01mnp\u001b[39;00m\n\u001b[1;32m      3\u001b[0m \u001b[38;5;28;01mimport\u001b[39;00m \u001b[38;5;21;01mpandas\u001b[39;00m \u001b[38;5;28;01mas\u001b[39;00m \u001b[38;5;21;01mpd\u001b[39;00m\n\u001b[0;32m----> 4\u001b[0m \u001b[38;5;28;01mfrom\u001b[39;00m \u001b[38;5;21;01mpgmpy\u001b[39;00m\u001b[38;5;21;01m.\u001b[39;00m\u001b[38;5;21;01mestimators\u001b[39;00m \u001b[38;5;28;01mimport\u001b[39;00m MaximumLikelihoodEstimator\n\u001b[1;32m      5\u001b[0m \u001b[38;5;28;01mfrom\u001b[39;00m \u001b[38;5;21;01mpgmpy\u001b[39;00m\u001b[38;5;21;01m.\u001b[39;00m\u001b[38;5;21;01mmodels\u001b[39;00m \u001b[38;5;28;01mimport\u001b[39;00m BayesianModel\n\u001b[1;32m      6\u001b[0m \u001b[38;5;28;01mfrom\u001b[39;00m \u001b[38;5;21;01mpgmpy\u001b[39;00m\u001b[38;5;21;01m.\u001b[39;00m\u001b[38;5;21;01minference\u001b[39;00m \u001b[38;5;28;01mimport\u001b[39;00m VariableElimination\n",
      "\u001b[0;31mModuleNotFoundError\u001b[0m: No module named 'pgmpy'"
     ]
    }
   ],
   "source": [
    "# Import necessary libraries\n",
    "import numpy as np\n",
    "import pandas as pd\n",
    "from pgmpy.estimators import MaximumLikelihoodEstimator\n",
    "from pgmpy.models import BayesianModel\n",
    "from pgmpy.inference import VariableElimination"
   ]
  },
  {
   "cell_type": "code",
   "execution_count": null,
   "metadata": {},
   "outputs": [
    {
     "name": "stdout",
     "output_type": "stream",
     "text": [
      "Collecting pgmpy\n",
      "  Using cached pgmpy-0.1.26-py3-none-any.whl.metadata (9.1 kB)\n",
      "Requirement already satisfied: networkx in /home/robert/anaconda3/lib/python3.12/site-packages (from pgmpy) (3.2.1)\n",
      "Requirement already satisfied: numpy in /home/robert/anaconda3/lib/python3.12/site-packages (from pgmpy) (1.26.4)\n",
      "Requirement already satisfied: scipy in /home/robert/anaconda3/lib/python3.12/site-packages (from pgmpy) (1.14.1)\n",
      "Requirement already satisfied: scikit-learn in /home/robert/.local/lib/python3.12/site-packages (from pgmpy) (1.4.2)\n",
      "Requirement already satisfied: pandas in /home/robert/.local/lib/python3.12/site-packages (from pgmpy) (2.2.2)\n",
      "Requirement already satisfied: pyparsing in /home/robert/anaconda3/lib/python3.12/site-packages (from pgmpy) (3.0.9)\n",
      "Requirement already satisfied: torch in /home/robert/anaconda3/lib/python3.12/site-packages (from pgmpy) (2.4.1)\n",
      "Requirement already satisfied: statsmodels in /home/robert/anaconda3/lib/python3.12/site-packages (from pgmpy) (0.14.2)\n",
      "Requirement already satisfied: tqdm in /home/robert/anaconda3/lib/python3.12/site-packages (from pgmpy) (4.66.5)\n",
      "Requirement already satisfied: joblib in /home/robert/.local/lib/python3.12/site-packages (from pgmpy) (1.4.0)\n",
      "Collecting opt-einsum (from pgmpy)\n",
      "  Downloading opt_einsum-3.4.0-py3-none-any.whl.metadata (6.3 kB)\n",
      "Collecting xgboost (from pgmpy)\n",
      "  Downloading xgboost-2.1.2-py3-none-manylinux_2_28_x86_64.whl.metadata (2.1 kB)\n",
      "Requirement already satisfied: google-generativeai in /home/robert/anaconda3/lib/python3.12/site-packages (from pgmpy) (0.3.2)\n",
      "Requirement already satisfied: google-ai-generativelanguage==0.4.0 in /home/robert/anaconda3/lib/python3.12/site-packages (from google-generativeai->pgmpy) (0.4.0)\n",
      "Requirement already satisfied: google-auth in /home/robert/anaconda3/lib/python3.12/site-packages (from google-generativeai->pgmpy) (2.34.0)\n",
      "Requirement already satisfied: google-api-core in /home/robert/anaconda3/lib/python3.12/site-packages (from google-generativeai->pgmpy) (2.19.1)\n",
      "Requirement already satisfied: typing-extensions in /home/robert/anaconda3/lib/python3.12/site-packages (from google-generativeai->pgmpy) (4.12.2)\n",
      "Requirement already satisfied: protobuf in /home/robert/anaconda3/lib/python3.12/site-packages (from google-generativeai->pgmpy) (4.25.4)\n",
      "Requirement already satisfied: proto-plus<2.0.0dev,>=1.22.3 in /home/robert/anaconda3/lib/python3.12/site-packages (from google-ai-generativelanguage==0.4.0->google-generativeai->pgmpy) (1.24.0)\n",
      "Requirement already satisfied: python-dateutil>=2.8.2 in /home/robert/anaconda3/lib/python3.12/site-packages (from pandas->pgmpy) (2.9.0.post0)\n",
      "Requirement already satisfied: pytz>=2020.1 in /home/robert/anaconda3/lib/python3.12/site-packages (from pandas->pgmpy) (2024.1)\n",
      "Requirement already satisfied: tzdata>=2022.7 in /home/robert/.local/lib/python3.12/site-packages (from pandas->pgmpy) (2024.1)\n",
      "Requirement already satisfied: threadpoolctl>=2.0.0 in /home/robert/.local/lib/python3.12/site-packages (from scikit-learn->pgmpy) (3.4.0)\n",
      "Requirement already satisfied: patsy>=0.5.6 in /home/robert/anaconda3/lib/python3.12/site-packages (from statsmodels->pgmpy) (0.5.6)\n",
      "Requirement already satisfied: packaging>=21.3 in /home/robert/anaconda3/lib/python3.12/site-packages (from statsmodels->pgmpy) (23.2)\n",
      "Requirement already satisfied: filelock in /home/robert/anaconda3/lib/python3.12/site-packages (from torch->pgmpy) (3.13.1)\n",
      "Requirement already satisfied: sympy in /home/robert/anaconda3/lib/python3.12/site-packages (from torch->pgmpy) (1.13.2)\n",
      "Requirement already satisfied: jinja2 in /home/robert/anaconda3/lib/python3.12/site-packages (from torch->pgmpy) (3.1.4)\n",
      "Requirement already satisfied: fsspec in /home/robert/anaconda3/lib/python3.12/site-packages (from torch->pgmpy) (2024.3.1)\n",
      "Requirement already satisfied: setuptools in /home/robert/anaconda3/lib/python3.12/site-packages (from torch->pgmpy) (73.0.1)\n",
      "Requirement already satisfied: nvidia-cuda-nvrtc-cu12==12.1.105 in /home/robert/anaconda3/lib/python3.12/site-packages (from torch->pgmpy) (12.1.105)\n",
      "Requirement already satisfied: nvidia-cuda-runtime-cu12==12.1.105 in /home/robert/anaconda3/lib/python3.12/site-packages (from torch->pgmpy) (12.1.105)\n",
      "Requirement already satisfied: nvidia-cuda-cupti-cu12==12.1.105 in /home/robert/anaconda3/lib/python3.12/site-packages (from torch->pgmpy) (12.1.105)\n",
      "Requirement already satisfied: nvidia-cudnn-cu12==9.1.0.70 in /home/robert/anaconda3/lib/python3.12/site-packages (from torch->pgmpy) (9.1.0.70)\n",
      "Requirement already satisfied: nvidia-cublas-cu12==12.1.3.1 in /home/robert/anaconda3/lib/python3.12/site-packages (from torch->pgmpy) (12.1.3.1)\n",
      "Requirement already satisfied: nvidia-cufft-cu12==11.0.2.54 in /home/robert/anaconda3/lib/python3.12/site-packages (from torch->pgmpy) (11.0.2.54)\n",
      "Requirement already satisfied: nvidia-curand-cu12==10.3.2.106 in /home/robert/anaconda3/lib/python3.12/site-packages (from torch->pgmpy) (10.3.2.106)\n",
      "Requirement already satisfied: nvidia-cusolver-cu12==11.4.5.107 in /home/robert/anaconda3/lib/python3.12/site-packages (from torch->pgmpy) (11.4.5.107)\n",
      "Requirement already satisfied: nvidia-cusparse-cu12==12.1.0.106 in /home/robert/anaconda3/lib/python3.12/site-packages (from torch->pgmpy) (12.1.0.106)\n",
      "Requirement already satisfied: nvidia-nccl-cu12==2.20.5 in /home/robert/anaconda3/lib/python3.12/site-packages (from torch->pgmpy) (2.20.5)\n",
      "Requirement already satisfied: nvidia-nvtx-cu12==12.1.105 in /home/robert/anaconda3/lib/python3.12/site-packages (from torch->pgmpy) (12.1.105)\n",
      "Requirement already satisfied: triton==3.0.0 in /home/robert/anaconda3/lib/python3.12/site-packages (from torch->pgmpy) (3.0.0)\n",
      "Requirement already satisfied: nvidia-nvjitlink-cu12 in /home/robert/anaconda3/lib/python3.12/site-packages (from nvidia-cusolver-cu12==11.4.5.107->torch->pgmpy) (12.6.68)\n",
      "Requirement already satisfied: googleapis-common-protos<2.0.dev0,>=1.56.2 in /home/robert/anaconda3/lib/python3.12/site-packages (from google-api-core->google-generativeai->pgmpy) (1.63.2)\n",
      "Requirement already satisfied: requests<3.0.0.dev0,>=2.18.0 in /home/robert/anaconda3/lib/python3.12/site-packages (from google-api-core->google-generativeai->pgmpy) (2.32.2)\n",
      "Requirement already satisfied: cachetools<6.0,>=2.0.0 in /home/robert/anaconda3/lib/python3.12/site-packages (from google-auth->google-generativeai->pgmpy) (5.3.3)\n",
      "Requirement already satisfied: pyasn1-modules>=0.2.1 in /home/robert/anaconda3/lib/python3.12/site-packages (from google-auth->google-generativeai->pgmpy) (0.2.8)\n",
      "Requirement already satisfied: rsa<5,>=3.1.4 in /home/robert/anaconda3/lib/python3.12/site-packages (from google-auth->google-generativeai->pgmpy) (4.9)\n",
      "Requirement already satisfied: six in /home/robert/anaconda3/lib/python3.12/site-packages (from patsy>=0.5.6->statsmodels->pgmpy) (1.16.0)\n",
      "Requirement already satisfied: MarkupSafe>=2.0 in /home/robert/anaconda3/lib/python3.12/site-packages (from jinja2->torch->pgmpy) (2.1.3)\n",
      "Requirement already satisfied: mpmath<1.4,>=1.1.0 in /home/robert/anaconda3/lib/python3.12/site-packages (from sympy->torch->pgmpy) (1.3.0)\n",
      "Requirement already satisfied: grpcio<2.0dev,>=1.33.2 in /home/robert/anaconda3/lib/python3.12/site-packages (from google-api-core[grpc]!=2.0.*,!=2.1.*,!=2.10.*,!=2.2.*,!=2.3.*,!=2.4.*,!=2.5.*,!=2.6.*,!=2.7.*,!=2.8.*,!=2.9.*,<3.0.0dev,>=1.34.0->google-ai-generativelanguage==0.4.0->google-generativeai->pgmpy) (1.66.0)\n",
      "Requirement already satisfied: grpcio-status<2.0.dev0,>=1.33.2 in /home/robert/anaconda3/lib/python3.12/site-packages (from google-api-core[grpc]!=2.0.*,!=2.1.*,!=2.10.*,!=2.2.*,!=2.3.*,!=2.4.*,!=2.5.*,!=2.6.*,!=2.7.*,!=2.8.*,!=2.9.*,<3.0.0dev,>=1.34.0->google-ai-generativelanguage==0.4.0->google-generativeai->pgmpy) (1.62.3)\n",
      "Requirement already satisfied: pyasn1<0.5.0,>=0.4.6 in /home/robert/anaconda3/lib/python3.12/site-packages (from pyasn1-modules>=0.2.1->google-auth->google-generativeai->pgmpy) (0.4.8)\n",
      "Requirement already satisfied: charset-normalizer<4,>=2 in /home/robert/anaconda3/lib/python3.12/site-packages (from requests<3.0.0.dev0,>=2.18.0->google-api-core->google-generativeai->pgmpy) (3.3.2)\n",
      "Requirement already satisfied: idna<4,>=2.5 in /home/robert/anaconda3/lib/python3.12/site-packages (from requests<3.0.0.dev0,>=2.18.0->google-api-core->google-generativeai->pgmpy) (3.7)\n",
      "Requirement already satisfied: urllib3<3,>=1.21.1 in /home/robert/anaconda3/lib/python3.12/site-packages (from requests<3.0.0.dev0,>=2.18.0->google-api-core->google-generativeai->pgmpy) (2.2.2)\n",
      "Requirement already satisfied: certifi>=2017.4.17 in /home/robert/anaconda3/lib/python3.12/site-packages (from requests<3.0.0.dev0,>=2.18.0->google-api-core->google-generativeai->pgmpy) (2024.7.4)\n",
      "Using cached pgmpy-0.1.26-py3-none-any.whl (2.0 MB)\n",
      "Downloading opt_einsum-3.4.0-py3-none-any.whl (71 kB)\n",
      "Downloading xgboost-2.1.2-py3-none-manylinux_2_28_x86_64.whl (153.9 MB)\n",
      "\u001b[2K   \u001b[38;2;249;38;114m━━━━━━━━━━━━━━━━━━━━━━━━━━\u001b[0m\u001b[38;2;249;38;114m╸\u001b[0m\u001b[38;5;237m━━━━━━━━━━━━━\u001b[0m \u001b[32m102.8/153.9 MB\u001b[0m \u001b[31m2.2 MB/s\u001b[0m eta \u001b[36m0:00:24\u001b[0mm"
     ]
    }
   ],
   "source": [
    "! pip install pgmpy"
   ]
  },
  {
   "cell_type": "code",
   "execution_count": null,
   "metadata": {},
   "outputs": [],
   "source": [
    "# Read the heart disease dataset\n",
    "heartDisease = pd.read_csv('heart.csv')\n",
    "\n",
    "# Replace missing values with NaN (if any)\n",
    "heartDisease = heartDisease.replace('?', np.nan)\n",
    "\n",
    "# Display the first few records of the dataset\n",
    "print('Sample instances from the dataset are given below:')\n",
    "print(heartDisease.head())\n"
   ]
  },
  {
   "cell_type": "code",
   "execution_count": null,
   "metadata": {},
   "outputs": [],
   "source": [
    "# Display the attributes and their datatypes\n",
    "print('\\nAttributes and datatypes:')\n",
    "print(heartDisease.dtypes)"
   ]
  },
  {
   "cell_type": "code",
   "execution_count": null,
   "metadata": {},
   "outputs": [],
   "source": [
    "# Model the Bayesian Network with the given attributes\n",
    "model = BayesianModel([\n",
    "    ('age', 'target'),\n",
    "    ('sex', 'target'),\n",
    "    ('exang', 'target'),\n",
    "    ('cp', 'target'),\n",
    "    ('trestbps', 'target'),\n",
    "    ('chol', 'target'),\n",
    "    ('fbs', 'target'),\n",
    "    ('restecg', 'target'),\n",
    "    ('thalach', 'target'),\n",
    "    ('oldpeak', 'target'),\n",
    "    ('slope', 'target'),\n",
    "    ('ca', 'target'),\n",
    "    ('thal', 'target')\n",
    "])\n"
   ]
  },
  {
   "cell_type": "code",
   "execution_count": null,
   "metadata": {},
   "outputs": [],
   "source": [
    "# Learning CPDs using Maximum Likelihood Estimators\n",
    "print('\\nLearning CPD using Maximum likelihood estimators...')\n",
    "model.fit(heartDisease, estimator=MaximumLikelihoodEstimator)"
   ]
  },
  {
   "cell_type": "code",
   "execution_count": null,
   "metadata": {},
   "outputs": [],
   "source": [
    "# Inferencing with Bayesian Network\n",
    "print('\\nInferencing with Bayesian Network:')\n",
    "HeartDisease_infer = VariableElimination(model)"
   ]
  },
  {
   "cell_type": "code",
   "execution_count": null,
   "metadata": {},
   "outputs": [],
   "source": [
    "# Computing the Probability of Heart Disease given evidence 'restecg'\n",
    "print('\\n1. Probability of Heart Disease given evidence= restecg:')\n",
    "q1 = HeartDisease_infer.query(variables=['target'], evidence={'restecg': 1})\n",
    "print(q1)"
   ]
  },
  {
   "cell_type": "code",
   "execution_count": null,
   "metadata": {},
   "outputs": [],
   "source": [
    "# Computing the Probability of Heart Disease given evidence 'cp' (chest pain type)\n",
    "print('\\n2. Probability of Heart Disease given evidence= cp:')\n",
    "q2 = HeartDisease_infer.query(variables=['target'], evidence={'cp': 2})\n",
    "print(q2)"
   ]
  }
 ],
 "metadata": {
  "kernelspec": {
   "display_name": "Python 3 (ipykernel)",
   "language": "python",
   "name": "python3"
  },
  "language_info": {
   "codemirror_mode": {
    "name": "ipython",
    "version": 3
   },
   "file_extension": ".py",
   "mimetype": "text/x-python",
   "name": "python",
   "nbconvert_exporter": "python",
   "pygments_lexer": "ipython3",
   "version": "3.12.2"
  }
 },
 "nbformat": 4,
 "nbformat_minor": 4
}
