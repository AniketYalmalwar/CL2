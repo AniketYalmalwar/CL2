{
 "cells": [
  {
   "cell_type": "code",
   "execution_count": 78,
   "id": "7aea4e7a-112e-4973-9d7c-ab34e5fdca51",
   "metadata": {},
   "outputs": [],
   "source": [
    "from qiskit import QuantumCircuit,QuantumRegister,ClassicalRegister,transpile\n",
    "from qiskit_aer import AerSimulator\n",
    "from qiskit_aer.noise import NoiseModel, depolarizing_error\n",
    "from qiskit.visualization import plot_histogram,circuit_drawer"
   ]
  },
  {
   "cell_type": "code",
   "execution_count": 79,
   "id": "b50f4643-70c9-4e34-a31d-a3f17f4c9e0f",
   "metadata": {},
   "outputs": [
    {
     "data": {
      "text/html": [
       "<pre style=\"word-wrap: normal;white-space: pre;background: #fff0;line-height: 1.1;font-family: &quot;Courier New&quot;,Courier,monospace\">     ┌───┐             ┌─┐   \n",
       "q_0: ┤ H ├──■────■─────┤M├───\n",
       "     └───┘┌─┴─┐  │  ┌─┐└╥┘   \n",
       "q_1: ─────┤ X ├──┼──┤M├─╫────\n",
       "          └───┘┌─┴─┐└╥┘ ║ ┌─┐\n",
       "q_2: ──────────┤ X ├─╫──╫─┤M├\n",
       "               └───┘ ║  ║ └╥┘\n",
       "c: 3/════════════════╩══╩══╩═\n",
       "                     1  0  2 </pre>"
      ],
      "text/plain": [
       "     ┌───┐             ┌─┐   \n",
       "q_0: ┤ H ├──■────■─────┤M├───\n",
       "     └───┘┌─┴─┐  │  ┌─┐└╥┘   \n",
       "q_1: ─────┤ X ├──┼──┤M├─╫────\n",
       "          └───┘┌─┴─┐└╥┘ ║ ┌─┐\n",
       "q_2: ──────────┤ X ├─╫──╫─┤M├\n",
       "               └───┘ ║  ║ └╥┘\n",
       "c: 3/════════════════╩══╩══╩═\n",
       "                     1  0  2 "
      ]
     },
     "execution_count": 79,
     "metadata": {},
     "output_type": "execute_result"
    }
   ],
   "source": [
    "circuit = QuantumCircuit(3,3)\n",
    "circuit.h([0])\n",
    "circuit.cx(0,1)\n",
    "circuit.cx(0,2)\n",
    "circuit.measure([0,1,2],[0,1,2])\n",
    "circuit.draw()"
   ]
  },
  {
   "cell_type": "code",
   "execution_count": 80,
   "id": "8e64b1a0-f488-4991-a93a-736f0ddc39c6",
   "metadata": {},
   "outputs": [],
   "source": [
    "noise = NoiseModel()\n",
    "d1 = depolarizing_error(0.01,1)\n",
    "d2 = depolarizing_error(0.02,2)\n",
    "\n",
    "noise.add_all_qubit_quantum_error(d1,[\"u3\",\"h\",\"x\"])\n",
    "noise.add_all_qubit_quantum_error(d2,[\"cx\"])"
   ]
  },
  {
   "cell_type": "code",
   "execution_count": 81,
   "id": "786f53c9-3504-4cf7-962c-ecfaf03904be",
   "metadata": {},
   "outputs": [],
   "source": [
    "backend = AerSimulator()\n",
    "output = transpile(circuit,backend)\n",
    "output = backend.run(output,shots=1024,noise=noise)"
   ]
  },
  {
   "cell_type": "code",
   "execution_count": 82,
   "id": "c0c0ef7a-b253-47a4-ae3c-e617480df98b",
   "metadata": {},
   "outputs": [],
   "source": [
    "output = output.result().get_counts(circuit)"
   ]
  },
  {
   "cell_type": "code",
   "execution_count": 83,
   "id": "097d5c66-1adc-407d-a466-8cdb9ffd746f",
   "metadata": {},
   "outputs": [],
   "source": [
    "mitiaged_count = {key: output[key]*(1-0.2) for key in output}"
   ]
  },
  {
   "cell_type": "code",
   "execution_count": 97,
   "id": "f6eec874-1067-4a42-bcdf-da4a227b1d59",
   "metadata": {},
   "outputs": [
    {
     "data": {
      "image/png": "[encoded data removed]",
      "text/plain": [
       "<Figure size 640x480 with 1 Axes>"
      ]
     },
     "metadata": {},
     "output_type": "display_data"
    }
   ],
   "source": [
    "import numpy as np\n",
    "x = np.arange(len(output))\n",
    "# Set width of bars\n",
    "width = 0.35\n",
    "\n",
    "# Plot bars side by side by shifting the positions\n",
    "plt.bar(x - width/2, list(output.values()), width)\n",
    "plt.bar(x + width/2, list(mitiaged_count.values()), width)\n",
    "\n",
    "# Add x-ticks to match the labels\n",
    "plt.xticks(x, list(output.keys()))\n",
    "\n",
    "# Show the plot\n",
    "plt.show()"
   ]
  },
  {
   "cell_type": "code",
   "execution_count": null,
   "id": "fe6793bf-1c80-4fdd-bcf6-0cb6da7cac1a",
   "metadata": {},
   "outputs": [],
   "source": []
  }
 ],
 "metadata": {
  "kernelspec": {
   "display_name": "Python 3 (ipykernel)",
   "language": "python",
   "name": "python3"
  },
  "language_info": {
   "codemirror_mode": {
    "name": "ipython",
    "version": 3
   },
   "file_extension": ".py",
   "mimetype": "text/x-python",
   "name": "python",
   "nbconvert_exporter": "python",
   "pygments_lexer": "ipython3",
   "version": "3.12.2"
  }
 },
 "nbformat": 4,
 "nbformat_minor": 5
}
